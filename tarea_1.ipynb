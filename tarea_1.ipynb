{
 "cells": [
  {
   "cell_type": "code",
   "execution_count": null,
   "metadata": {},
   "outputs": [],
   "source": [
    "import tensorflow.keras.datasets as datasets\n",
    "import matplotlib.pyplot as plt\n",
    "import numpy as np\n",
    "from skimage.feature import hog"
   ]
  },
  {
   "cell_type": "code",
   "execution_count": null,
   "metadata": {},
   "outputs": [],
   "source": [
    "def getSample(n_rows, n_cols, data):\n",
    "    size = 28\n",
    "    image = np.ones((n_rows*size, n_cols*size), dtype = np.uint8)*255\n",
    "    n = n_rows * n_cols\n",
    "    idx = np.random.randint(data.shape[0], size = n)\n",
    "    \n",
    "    i = 0\n",
    "    for r in np.arange(n_rows) :\n",
    "            for c in np.arange(n_cols) :\n",
    "                image[r * size:(r + 1) * size, c * size : (c + 1) * size] = data[idx[i], : , : ]\n",
    "                i = i + 1\n",
    "    \n",
    "    return image"
   ]
  },
  {
   "cell_type": "code",
   "execution_count": null,
   "metadata": {},
   "outputs": [],
   "source": [
    "if __name__ == '__main__' :\n",
    "    (x_train, y_train), (x_test, y_test) = datasets.mnist.load_data()\n",
    "    print ('{} {}'.format(x_train.shape, x_train.dtype))\n",
    "    print ('{} {}'.format(x_test.shape, x_train.dtype))\n",
    "    digit = x_train[10,:,:];\n",
    "    print(digit.shape)\n",
    "    fd, hog_image = hog(digit, orientations=8, pixels_per_cell=(7,7),\n",
    "                    cells_per_block=(1, 1), visualize=True)\n",
    "    print(fd)\n",
    "    fig, xs = plt.subplots(1,2)\n",
    "    xs[0].imshow(digit, cmap = 'gray')\n",
    "    xs[1].imshow(hog_image, cmap = 'gray')\n",
    "    print(fd.shape)\n",
    "    # image = getSample(10,20, x_train)\n",
    "    #plt.imshow(image, cmap = 'gray')\n",
    "    # plt.axis('off')\n",
    "    plt.show()\n"
   ]
  }
 ],
 "metadata": {
  "kernelspec": {
   "display_name": "Python 3",
   "language": "python",
   "name": "python3"
  },
  "language_info": {
   "codemirror_mode": {
    "name": "ipython",
    "version": 3
   },
   "file_extension": ".py",
   "mimetype": "text/x-python",
   "name": "python",
   "nbconvert_exporter": "python",
   "pygments_lexer": "ipython3",
   "version": "3.10.4"
  },
  "orig_nbformat": 4
 },
 "nbformat": 4,
 "nbformat_minor": 2
}
