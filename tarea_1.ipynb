{
 "cells": [
  {
   "cell_type": "code",
   "execution_count": 1,
   "metadata": {},
   "outputs": [
    {
     "name": "stderr",
     "output_type": "stream",
     "text": [
      "2023-04-07 13:23:42.283122: I tensorflow/tsl/cuda/cudart_stub.cc:28] Could not find cuda drivers on your machine, GPU will not be used.\n",
      "2023-04-07 13:23:46.711241: I tensorflow/tsl/cuda/cudart_stub.cc:28] Could not find cuda drivers on your machine, GPU will not be used.\n",
      "2023-04-07 13:23:46.785961: I tensorflow/core/platform/cpu_feature_guard.cc:182] This TensorFlow binary is optimized to use available CPU instructions in performance-critical operations.\n",
      "To enable the following instructions: AVX2 AVX512F FMA, in other operations, rebuild TensorFlow with the appropriate compiler flags.\n",
      "2023-04-07 13:23:55.473611: W tensorflow/compiler/tf2tensorrt/utils/py_utils.cc:38] TF-TRT Warning: Could not find TensorRT\n"
     ]
    }
   ],
   "source": [
    "import tensorflow.keras.datasets as datasets\n",
    "import matplotlib.pyplot as plt\n",
    "import numpy as np\n",
    "from skimage.feature import hog"
   ]
  },
  {
   "cell_type": "code",
   "execution_count": 2,
   "metadata": {},
   "outputs": [],
   "source": [
    "def getSample(n_rows, n_cols, data):\n",
    "    size = 28\n",
    "    image = np.ones((n_rows*size, n_cols*size), dtype = np.uint8)*255\n",
    "    n = n_rows * n_cols\n",
    "    idx = np.random.randint(data.shape[0], size = n)\n",
    "    \n",
    "    i = 0\n",
    "    for r in np.arange(n_rows) :\n",
    "            for c in np.arange(n_cols) :\n",
    "                image[r * size:(r + 1) * size, c * size : (c + 1) * size] = data[idx[i], : , : ]\n",
    "                i = i + 1\n",
    "    \n",
    "    return image"
   ]
  },
  {
   "cell_type": "code",
   "execution_count": 3,
   "metadata": {},
   "outputs": [
    {
     "name": "stdout",
     "output_type": "stream",
     "text": [
      "(60000, 28, 28) uint8\n",
      "(10000, 28, 28) uint8\n",
      "(28, 28)\n",
      "[0.         0.         0.         0.         0.         0.\n",
      " 0.         0.         0.4472136  0.         0.4472136  0.4472136\n",
      " 0.4472136  0.         0.4472136  0.         0.15633935 0.\n",
      " 0.         0.         0.57025082 0.57025082 0.57025082 0.\n",
      " 0.         0.         0.         0.         0.         0.\n",
      " 0.         0.         0.         0.         0.         0.\n",
      " 0.         0.         0.         0.         0.42200685 0.\n",
      " 0.42200685 0.31621386 0.09777462 0.42200685 0.42200685 0.42200685\n",
      " 0.54978139 0.29550552 0.         0.         0.07679686 0.\n",
      " 0.54978139 0.54978139 0.         0.         0.         0.\n",
      " 0.         0.         0.         0.         0.70086039 0.70086039\n",
      " 0.         0.         0.13262515 0.         0.         0.\n",
      " 0.05963401 0.         0.32391661 0.47210217 0.47210217 0.47210217\n",
      " 0.47210217 0.         0.47917538 0.47917538 0.18041005 0.\n",
      " 0.43658474 0.18832549 0.22924297 0.47917538 0.         0.\n",
      " 0.         0.         0.         0.         0.         0.\n",
      " 0.55380958 0.         0.         0.         0.         0.\n",
      " 0.58876776 0.58876776 0.         0.         0.         0.5\n",
      " 0.5        0.5        0.5        0.         0.09452387 0.57476524\n",
      " 0.57476524 0.         0.57476524 0.         0.         0.\n",
      " 0.         0.         0.         0.         0.         0.\n",
      " 0.         0.        ]\n",
      "(128,)\n"
     ]
    },
    {
     "data": {
      "image/png": "[encoded data removed]",
      "text/plain": [
       "<Figure size 640x480 with 2 Axes>"
      ]
     },
     "metadata": {},
     "output_type": "display_data"
    }
   ],
   "source": [
    "if __name__ == '__main__' :\n",
    "    (x_train, y_train), (x_test, y_test) = datasets.mnist.load_data()\n",
    "    print ('{} {}'.format(x_train.shape, x_train.dtype))\n",
    "    print ('{} {}'.format(x_test.shape, x_train.dtype))\n",
    "    digit = x_train[10,:,:];\n",
    "    print(digit.shape)\n",
    "    fd, hog_image = hog(digit, orientations=8, pixels_per_cell=(7,7),\n",
    "                    cells_per_block=(1, 1), visualize=True)\n",
    "    print(fd)\n",
    "    fig, xs = plt.subplots(1,2)\n",
    "    xs[0].imshow(digit, cmap = 'gray')\n",
    "    xs[1].imshow(hog_image, cmap = 'gray')\n",
    "    print(fd.shape)\n",
    "    # image = getSample(10,20, x_train)\n",
    "    #plt.imshow(image, cmap = 'gray')\n",
    "    # plt.axis('off')\n",
    "    plt.show()\n"
   ]
  }
 ],
 "metadata": {
  "kernelspec": {
   "display_name": "Python 3",
   "language": "python",
   "name": "python3"
  },
  "language_info": {
   "codemirror_mode": {
    "name": "ipython",
    "version": 3
   },
   "file_extension": ".py",
   "mimetype": "text/x-python",
   "name": "python",
   "nbconvert_exporter": "python",
   "pygments_lexer": "ipython3",
   "version": "3.10.4"
  },
  "orig_nbformat": 4
 },
 "nbformat": 4,
 "nbformat_minor": 2
}
