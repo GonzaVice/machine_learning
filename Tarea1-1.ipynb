{
 "cells": [
  {
   "attachments": {},
   "cell_type": "markdown",
   "metadata": {},
   "source": [
    "IMPORTS BEFORE RUNNING CODE BELOW"
   ]
  },
  {
   "cell_type": "code",
   "execution_count": 1,
   "metadata": {},
   "outputs": [
    {
     "name": "stderr",
     "output_type": "stream",
     "text": [
      "2023-04-09 01:01:11.322843: I tensorflow/tsl/cuda/cudart_stub.cc:28] Could not find cuda drivers on your machine, GPU will not be used.\n",
      "2023-04-09 01:01:14.273484: I tensorflow/tsl/cuda/cudart_stub.cc:28] Could not find cuda drivers on your machine, GPU will not be used.\n",
      "2023-04-09 01:01:14.354900: I tensorflow/core/platform/cpu_feature_guard.cc:182] This TensorFlow binary is optimized to use available CPU instructions in performance-critical operations.\n",
      "To enable the following instructions: AVX2 AVX512F FMA, in other operations, rebuild TensorFlow with the appropriate compiler flags.\n",
      "2023-04-09 01:01:22.526385: W tensorflow/compiler/tf2tensorrt/utils/py_utils.cc:38] TF-TRT Warning: Could not find TensorRT\n",
      "/home/codespace/.python/current/lib/python3.10/site-packages/tqdm/auto.py:21: TqdmWarning: IProgress not found. Please update jupyter and ipywidgets. See https://ipywidgets.readthedocs.io/en/stable/user_install.html\n",
      "  from .autonotebook import tqdm as notebook_tqdm\n"
     ]
    }
   ],
   "source": [
    "import tensorflow.keras.datasets as datasets\n",
    "import matplotlib.pyplot as plt\n",
    "import numpy as np\n",
    "from skimage.feature import hog\n",
    "import linear_models.softmaxreg as softmaxreg\n",
    "import umap\n",
    "import matplotlib.pyplot as plt\n",
    "import numpy as np\n",
    "import metrics.metrics as metrics"
   ]
  },
  {
   "attachments": {},
   "cell_type": "markdown",
   "metadata": {},
   "source": [
    "TRAINING MODEL USING THE IMAGES"
   ]
  },
  {
   "cell_type": "code",
   "execution_count": 2,
   "metadata": {},
   "outputs": [
    {
     "name": "stdout",
     "output_type": "stream",
     "text": [
      "(60000, 28, 28) uint8\n",
      "(10000, 28, 28) uint8\n",
      "(28, 28)\n"
     ]
    }
   ],
   "source": [
    "(x_train, y_train), (x_test, y_test) = datasets.mnist.load_data()\n",
    "print ('{} {}'.format(x_train.shape, x_train.dtype))\n",
    "print ('{} {}'.format(x_test.shape, x_train.dtype))\n",
    "digit = x_train[0,:,:]\n",
    "print(digit.shape)"
   ]
  },
  {
   "cell_type": "code",
   "execution_count": 3,
   "metadata": {},
   "outputs": [],
   "source": [
    "SM = softmaxreg.SoftmaxReg(10)"
   ]
  },
  {
   "cell_type": "code",
   "execution_count": 4,
   "metadata": {},
   "outputs": [],
   "source": [
    "x_train_d_784 = x_train.reshape(60000,-1)\n",
    "x_test_d_784 = x_test.reshape(10000,-1)"
   ]
  },
  {
   "cell_type": "code",
   "execution_count": 5,
   "metadata": {},
   "outputs": [
    {
     "name": "stdout",
     "output_type": "stream",
     "text": [
      "it 0 acc 0.09745\n",
      "it 10 acc 0.6152666666666666\n",
      "it 20 acc 0.8533333333333334\n",
      "it 30 acc 0.8775\n",
      "it 40 acc 0.7221333333333333\n",
      "it 50 acc 0.8900666666666667\n",
      "it 60 acc 0.7564166666666666\n",
      "it 70 acc 0.74095\n",
      "it 80 acc 0.8870833333333333\n",
      "it 90 acc 0.9018166666666667\n",
      "it 100 acc 0.9048\n",
      "it 110 acc 0.7024833333333333\n",
      "it 120 acc 0.85215\n",
      "it 130 acc 0.90595\n",
      "it 140 acc 0.9106166666666666\n",
      "it 150 acc 0.90235\n",
      "it 160 acc 0.81025\n",
      "it 170 acc 0.7957666666666666\n",
      "it 180 acc 0.89875\n",
      "it 190 acc 0.9115833333333333\n"
     ]
    }
   ],
   "source": [
    "coeff = SM.fit(x_train_d_784, y_train)"
   ]
  },
  {
   "cell_type": "code",
   "execution_count": 6,
   "metadata": {},
   "outputs": [],
   "source": [
    "y_pred = SM.predict(x_test_d_784)"
   ]
  },
  {
   "cell_type": "code",
   "execution_count": 7,
   "metadata": {},
   "outputs": [
    {
     "name": "stdout",
     "output_type": "stream",
     "text": [
      "Accuracy: 0.9116\n"
     ]
    }
   ],
   "source": [
    "acc = metrics.multiclass_accuracy(y_test, y_pred)\n",
    "print(f\"Accuracy: {acc}\")"
   ]
  },
  {
   "cell_type": "code",
   "execution_count": 8,
   "metadata": {},
   "outputs": [
    {
     "name": "stdout",
     "output_type": "stream",
     "text": [
      "Confusion Matrix\n",
      "[[ 954    0    3    3    0    4    7    4    4    1]\n",
      " [   0 1098    6    3    0    1    3    2   22    0]\n",
      " [   9    8  910   18   10    2   10   11   48    6]\n",
      " [   2    0   18  914    0   25    4    9   31    7]\n",
      " [   3    2    5    2  894    0   12    3   21   40]\n",
      " [  10    1    5   42    9  729   16    7   66    7]\n",
      " [  12    2    8    1   14   14  899    3    5    0]\n",
      " [   1    6   24   13    7    0    0  943    5   29]\n",
      " [   5    6    4   21    9   19    7   12  890    1]\n",
      " [   9    4    2    9   37    6    0   33   24  885]]\n"
     ]
    }
   ],
   "source": [
    "cm = metrics.confusion_matrix(y_test, y_pred, 10)\n",
    "print(f'Confusion Matrix\\n{cm}')"
   ]
  },
  {
   "attachments": {},
   "cell_type": "markdown",
   "metadata": {},
   "source": [
    "TRAINING MODEL USING HOG FUNCTION"
   ]
  },
  {
   "cell_type": "code",
   "execution_count": 9,
   "metadata": {},
   "outputs": [
    {
     "name": "stdout",
     "output_type": "stream",
     "text": [
      "(60000, 28, 28) uint8\n",
      "(10000, 28, 28) uint8\n",
      "(28, 28)\n"
     ]
    }
   ],
   "source": [
    "(x_train, y_train), (x_test, y_test) = datasets.mnist.load_data()\n",
    "print ('{} {}'.format(x_train.shape, x_train.dtype))\n",
    "print ('{} {}'.format(x_test.shape, x_train.dtype))\n",
    "digit = x_train[0,:,:]\n",
    "print(digit.shape)"
   ]
  },
  {
   "cell_type": "code",
   "execution_count": 10,
   "metadata": {},
   "outputs": [],
   "source": [
    "SM = softmaxreg.SoftmaxReg(10)"
   ]
  },
  {
   "cell_type": "code",
   "execution_count": 11,
   "metadata": {},
   "outputs": [
    {
     "name": "stdout",
     "output_type": "stream",
     "text": [
      "0%\n",
      "17%\n",
      "33%\n",
      "50%\n",
      "67%\n",
      "83%\n",
      "100%\n"
     ]
    }
   ],
   "source": [
    "x_train_hog = list()\n",
    "for n in range(len(x_train)):\n",
    "    digit = x_train[n,:,:]\n",
    "    fd, hog_image = hog(digit, orientations=8, pixels_per_cell=(7,7), cells_per_block=(1, 1), visualize=True)\n",
    "    x_train_hog.append(fd)\n",
    "    if(n%9999 == 0): print(f\"{round(n/len(x_train)*100)}%\")\n",
    "x_train_hog = np.array(x_train_hog)"
   ]
  },
  {
   "cell_type": "code",
   "execution_count": 12,
   "metadata": {},
   "outputs": [
    {
     "name": "stdout",
     "output_type": "stream",
     "text": [
      "0%\n",
      "10%\n",
      "20%\n",
      "30%\n",
      "40%\n",
      "50%\n",
      "60%\n",
      "70%\n",
      "80%\n",
      "90%\n",
      "100%\n"
     ]
    }
   ],
   "source": [
    "x_test_hog = list()\n",
    "for n in range(len(x_test)):\n",
    "    digit = x_test[n,:,:]\n",
    "    fd, hog_image = hog(digit, orientations=8, pixels_per_cell=(7,7), cells_per_block=(1, 1), visualize=True)\n",
    "    x_test_hog.append(fd)\n",
    "    if(n%999 == 0): print(f\"{round(n/len(x_test)*100)}%\")\n",
    "x_test_hog = np.array(x_test_hog)"
   ]
  },
  {
   "cell_type": "code",
   "execution_count": 13,
   "metadata": {},
   "outputs": [
    {
     "name": "stdout",
     "output_type": "stream",
     "text": [
      "it 0 acc 0.10541666666666667\n",
      "it 10 acc 0.11275\n",
      "it 20 acc 0.11976666666666666\n",
      "it 30 acc 0.1274\n",
      "it 40 acc 0.1356\n",
      "it 50 acc 0.14355\n",
      "it 60 acc 0.15131666666666665\n",
      "it 70 acc 0.15956666666666666\n",
      "it 80 acc 0.16798333333333335\n",
      "it 90 acc 0.1771\n",
      "it 100 acc 0.18638333333333335\n",
      "it 110 acc 0.19646666666666668\n",
      "it 120 acc 0.20525\n",
      "it 130 acc 0.2154\n",
      "it 140 acc 0.22543333333333335\n",
      "it 150 acc 0.23526666666666668\n",
      "it 160 acc 0.24613333333333334\n",
      "it 170 acc 0.25726666666666664\n",
      "it 180 acc 0.2675666666666667\n",
      "it 190 acc 0.27905\n"
     ]
    }
   ],
   "source": [
    "coeff = SM.fit(x_train_hog, y_train)\n",
    "y_pred = SM.predict(x_test_hog)"
   ]
  },
  {
   "cell_type": "code",
   "execution_count": 14,
   "metadata": {},
   "outputs": [
    {
     "name": "stdout",
     "output_type": "stream",
     "text": [
      "Accuracy: 0.285\n"
     ]
    }
   ],
   "source": [
    "acc = metrics.multiclass_accuracy(y_test, y_pred)\n",
    "print(f\"Accuracy: {acc}\")"
   ]
  },
  {
   "cell_type": "code",
   "execution_count": 15,
   "metadata": {},
   "outputs": [
    {
     "name": "stdout",
     "output_type": "stream",
     "text": [
      "Confusion Matrix\n",
      "[[255   0 333 127   5  14  50   8  74 114]\n",
      " [126  61   2  46 156  11 157 402 167   7]\n",
      " [234   5 242 314   7  18  68  10 118  16]\n",
      " [225   1  82 553  25  18  48   5  40  13]\n",
      " [205  11  15  32 282  37  43 128  37 192]\n",
      " [116   4  54 227  33  69  91  16 200  82]\n",
      " [392   4  59  93   1  51 292   3  10  53]\n",
      " [ 41  46 163  22 133   1  65 338 152  67]\n",
      " [ 30  13  86 198  31  53  75  24 416  48]\n",
      " [ 28   3  34  32 233   6  21 187 123 342]]\n"
     ]
    }
   ],
   "source": [
    "cm = metrics.confusion_matrix(y_test, y_pred, 10)\n",
    "print(f'Confusion Matrix\\n{cm}')"
   ]
  }
 ],
 "metadata": {
  "kernelspec": {
   "display_name": "Python 3",
   "language": "python",
   "name": "python3"
  },
  "language_info": {
   "codemirror_mode": {
    "name": "ipython",
    "version": 3
   },
   "file_extension": ".py",
   "mimetype": "text/x-python",
   "name": "python",
   "nbconvert_exporter": "python",
   "pygments_lexer": "ipython3",
   "version": "3.10.4"
  },
  "orig_nbformat": 4
 },
 "nbformat": 4,
 "nbformat_minor": 2
}
